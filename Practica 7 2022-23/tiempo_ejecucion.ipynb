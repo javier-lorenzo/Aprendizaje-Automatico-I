{
 "cells": [
  {
   "cell_type": "markdown",
   "metadata": {},
   "source": [
    "### Ejemplo para calcular el tiempo de ejecución de un fragmento de código"
   ]
  },
  {
   "cell_type": "code",
   "execution_count": null,
   "metadata": {},
   "outputs": [],
   "source": [
    "import numpy as np\n",
    "import time"
   ]
  },
  {
   "cell_type": "code",
   "execution_count": null,
   "metadata": {},
   "outputs": [],
   "source": [
    "n_iteraciones = 1000000 \n",
    "vector = np.zeros(n_iteraciones)\n",
    "\n",
    "inicio = time.time() # inicio del fragmento de código a medir su tiempo de ejecución\n",
    "\n",
    "for i in range(n_iteraciones):\n",
    "    valor = np.random.random()\n",
    "    valor_cuadrado = valor * valor\n",
    "    vector[i] = np.sqrt(valor_cuadrado + valor_cuadrado)\n",
    "\n",
    "fin = time.time() # fin del fragmento de código a medir su tiempo de ejecución\n",
    "\n",
    "print(\"Tiempo transcurrido: {:.3f} seg.\".format(fin - inicio))"
   ]
  },
  {
   "cell_type": "code",
   "execution_count": null,
   "metadata": {},
   "outputs": [],
   "source": []
  }
 ],
 "metadata": {
  "interpreter": {
   "hash": "41466ad4c9d1318ecf3a3820d3ec2f25a4e7f919a3b72d67edce162ea0d6048a"
  },
  "kernelspec": {
   "display_name": "Python 3.7.9 ('base')",
   "language": "python",
   "name": "python3"
  },
  "language_info": {
   "codemirror_mode": {
    "name": "ipython",
    "version": 3
   },
   "file_extension": ".py",
   "mimetype": "text/x-python",
   "name": "python",
   "nbconvert_exporter": "python",
   "pygments_lexer": "ipython3",
   "version": "3.9.7"
  },
  "orig_nbformat": 4
 },
 "nbformat": 4,
 "nbformat_minor": 2
}
