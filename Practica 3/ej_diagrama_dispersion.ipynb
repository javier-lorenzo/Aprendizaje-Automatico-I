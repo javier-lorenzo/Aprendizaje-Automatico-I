{
 "cells": [
  {
   "cell_type": "markdown",
   "id": "369aece4",
   "metadata": {},
   "source": [
    "## Ejemplo de diagrama de dispersión con recta de regresión"
   ]
  },
  {
   "cell_type": "code",
   "execution_count": 1,
   "id": "fd51e78f",
   "metadata": {},
   "outputs": [],
   "source": [
    "import numpy as np\n",
    "import matplotlib.pyplot as plt\n",
    "from sklearn.linear_model import LinearRegression"
   ]
  },
  {
   "cell_type": "markdown",
   "id": "7042eb44",
   "metadata": {},
   "source": [
    "#### Obtener el modelo por regresión lineal de un conjunto de puntos"
   ]
  },
  {
   "cell_type": "code",
   "execution_count": 2,
   "id": "a04aeeb1",
   "metadata": {},
   "outputs": [],
   "source": [
    "x = np.array([1.0, 1.4, 1.8, 2.1, 2.5, 2.9, 3.2, 3.6, 4.0, 4.4, 4.8, 5.1, 5.5, 5.9, 6.2, 6.6, 7.0, 7.4, 7.8, 8.1, 8.5, 8.9, 9.2, 9.6, 10.0])\n",
    "y = np.array([4.8, 7.9, 5.9, 10.7, 10.8, 9.3, 10.1, 15.3, 14.4, 13.6, 19.0, 19.8, 19.9, 22.2, 23.9, 21.4, 22.4, 22.2, 26.4, 33.0, 25.1, 28.1, 32.7, 35.7, 37.0])"
   ]
  },
  {
   "cell_type": "code",
   "execution_count": 3,
   "id": "31b55f8c",
   "metadata": {},
   "outputs": [
    {
     "data": {
      "text/plain": [
       "LinearRegression()"
      ]
     },
     "execution_count": 3,
     "metadata": {},
     "output_type": "execute_result"
    }
   ],
   "source": [
    "regr = LinearRegression()\n",
    "regr.fit(x.reshape(-1,1), y)"
   ]
  },
  {
   "cell_type": "markdown",
   "id": "74afeb2e",
   "metadata": {},
   "source": [
    "#### Dibujar el diagrama de dispersión y la recta de regresión obtenida"
   ]
  },
  {
   "cell_type": "code",
   "execution_count": 4,
   "id": "c8a47710",
   "metadata": {},
   "outputs": [
    {
     "data": {
      "image/png": "[encoded data removed]",
      "text/plain": [
       "<Figure size 432x288 with 1 Axes>"
      ]
     },
     "metadata": {
      "needs_background": "light"
     },
     "output_type": "display_data"
    }
   ],
   "source": [
    "ax = plt.subplot(111)\n",
    "ax.scatter(x, y, color='blue')\n",
    "ax.plot(x, x * regr.coef_[0] + regr.intercept_, color='red')\n",
    "plt.show()"
   ]
  }
 ],
 "metadata": {
  "kernelspec": {
   "display_name": "Python 3 (ipykernel)",
   "language": "python",
   "name": "python3"
  },
  "language_info": {
   "codemirror_mode": {
    "name": "ipython",
    "version": 3
   },
   "file_extension": ".py",
   "mimetype": "text/x-python",
   "name": "python",
   "nbconvert_exporter": "python",
   "pygments_lexer": "ipython3",
   "version": "3.8.12"
  }
 },
 "nbformat": 4,
 "nbformat_minor": 5
}
